{
 "cells": [
  {
   "cell_type": "code",
   "execution_count": 1,
   "id": "597d4be1",
   "metadata": {},
   "outputs": [
    {
     "name": "stdout",
     "output_type": "stream",
     "text": [
      "Find the temperature of the city\n",
      "Enter the mu28\n",
      "Enter the sigma 5\n",
      "Enter the value1:32\n",
      "Enter the value2:30\n",
      "0.015715717508368116\n"
     ]
    }
   ],
   "source": [
    "from statistics import NormalDist\n",
    "print(\"Find the temperature of the city\")\n",
    "mu=int(input(\"Enter the mu\"))\n",
    "sigma=int(input(\"Enter the sigma\"))\n",
    "dis=NormalDist(mu=mu,sigma=sigma)\n",
    "value1=int (input(\"Enter the value1:\"))\n",
    "value2=int(input(\"Enter the value2:\"))\n",
    "if(value1==-1 or value2==-1):\n",
    "    if value1:\n",
    "        print(0-dis.pdf(value2))\n",
    "    else:\n",
    "        print(dis.pdf(value1))\n",
    "else:\n",
    "    print(dis.pdf(value2)-dis.pdf(value1))"
   ]
  },
  {
   "cell_type": "code",
   "execution_count": null,
   "id": "b6a2510d",
   "metadata": {},
   "outputs": [],
   "source": []
  },
  {
   "cell_type": "code",
   "execution_count": null,
   "id": "058efce3",
   "metadata": {},
   "outputs": [],
   "source": []
  }
 ],
 "metadata": {
  "kernelspec": {
   "display_name": "Python 3 (ipykernel)",
   "language": "python",
   "name": "python3"
  },
  "language_info": {
   "codemirror_mode": {
    "name": "ipython",
    "version": 3
   },
   "file_extension": ".py",
   "mimetype": "text/x-python",
   "name": "python",
   "nbconvert_exporter": "python",
   "pygments_lexer": "ipython3",
   "version": "3.9.7"
  }
 },
 "nbformat": 4,
 "nbformat_minor": 5
}
